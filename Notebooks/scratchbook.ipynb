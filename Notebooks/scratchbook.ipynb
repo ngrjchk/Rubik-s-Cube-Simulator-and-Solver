{
 "cells": [
  {
   "cell_type": "code",
   "execution_count": null,
   "metadata": {},
   "outputs": [],
   "source": [
    "def cleanup_scene():\n",
    "    \"\"\"Removes existing piecelets and rotation empties directly from data.\"\"\"\n",
    "    # No need to select/deselect for this method\n",
    "    objs_to_remove = [o for o in bpy.data.objects if o.name.startswith(\"Piece.\") or o.name.startswith(\"ROT_\")]\n",
    "\n",
    "    if objs_to_remove:\n",
    "        print(f\"Removing {len(objs_to_remove)} old objects...\")\n",
    "        for obj in objs_to_remove:\n",
    "            bpy.data.objects.remove(obj, do_unlink=True) # Use direct removal\n",
    "        print(\"Finished removing old objects.\")\n",
    "    else:\n",
    "        print(\"No old objects found to remove.\")\n",
    "\n",
    "    # Optional: Clear animation data (use with caution if scene has other animations)\n",
    "    # for action in bpy.data.actions:\n",
    "    #     bpy.data.actions.remove(action)\n",
    "\n",
    "    # Ensure the viewport updates if anything was removed\n",
    "    bpy.context.view_layer.update()"
   ]
  },
  {
   "cell_type": "code",
   "execution_count": 5,
   "metadata": {},
   "outputs": [
    {
     "data": {
      "text/plain": [
       "[(0, 0), (1, 'a'), (2, 'b'), (3, 'c'), (4, 'd')]"
      ]
     },
     "execution_count": 5,
     "metadata": {},
     "output_type": "execute_result"
    }
   ],
   "source": [
    "from collections import deque\n",
    "f = deque(['a','b','c','d'])\n",
    "f.appendleft(0)\n",
    "f[0]\n",
    "[i for i in enumerate(f)]"
   ]
  },
  {
   "cell_type": "code",
   "execution_count": 15,
   "metadata": {},
   "outputs": [
    {
     "name": "stdout",
     "output_type": "stream",
     "text": [
      "F [[0 1 2]\n",
      " [3 4 5]\n",
      " [6 7 8]]\n",
      "B [[20 19 18]\n",
      " [23 22 21]\n",
      " [26 25 24]]\n",
      "R [[ 2  5  8]\n",
      " [11 14 17]\n",
      " [20 23 26]]\n",
      "L [[18  9  0]\n",
      " [21 12  3]\n",
      " [24 15  6]]\n",
      "U [[18 19 20]\n",
      " [ 9 10 11]\n",
      " [ 0  1  2]]\n",
      "D [[ 6  7  8]\n",
      " [15 16 17]\n",
      " [24 25 26]]\n"
     ]
    }
   ],
   "source": [
    "import numpy as np\n",
    "\n",
    "aa = np.array([\n",
    "        [[0 , 1 , 2 ],\n",
    "         [3 , 4 , 5 ],\n",
    "         [6 , 7 , 8 ]], # Front face\n",
    "\n",
    "        [[9 , 10, 11],\n",
    "         [12, 13, 14],\n",
    "         [15, 16, 17]], # Middle slice\n",
    "\n",
    "        [[18, 19, 20],\n",
    "         [21, 22, 23],\n",
    "         [24, 25, 26]], # Back face\n",
    "])\n",
    "\n",
    "cube_faces = {\n",
    "    'F': aa[0, :, :],\n",
    "    'B': np.flip(aa[2, :, :], axis=1),\n",
    "    'R': aa[:, :, 2],\n",
    "    'L': np.flip(np.transpose(aa[:, :, 0]), axis=1),\n",
    "    'U' : np.flip(aa[:, 0, :], axis=0),\n",
    "    'D' : aa[:, 2, :]\n",
    "}\n",
    "for i in cube_faces:\n",
    "    print(i, cube_faces[i])"
   ]
  },
  {
   "cell_type": "code",
   "execution_count": 13,
   "metadata": {},
   "outputs": [
    {
     "data": {
      "text/plain": [
       "array([[18,  9,  0],\n",
       "       [21, 12,  3],\n",
       "       [24, 15,  6]])"
      ]
     },
     "execution_count": 13,
     "metadata": {},
     "output_type": "execute_result"
    }
   ],
   "source": [
    "np.flip(np.transpose(aa[:, :, 0]), axis=1)"
   ]
  },
  {
   "cell_type": "code",
   "execution_count": 17,
   "metadata": {},
   "outputs": [
    {
     "data": {
      "text/plain": [
       "[2, 1]"
      ]
     },
     "execution_count": 17,
     "metadata": {},
     "output_type": "execute_result"
    }
   ],
   "source": [
    "a = [1,2]\n",
    "a.reverse()\n",
    "a"
   ]
  },
  {
   "cell_type": "code",
   "execution_count": 25,
   "metadata": {},
   "outputs": [
    {
     "data": {
      "text/plain": [
       "array([[1, 2],\n",
       "       [3, 4]])"
      ]
     },
     "execution_count": 25,
     "metadata": {},
     "output_type": "execute_result"
    }
   ],
   "source": [
    "import numpy as np\n",
    "m = np.array([[1,2],[3,4]], int)\n",
    "m = np.rot90(m, k=0, axes=(0, 1))\n",
    "m"
   ]
  },
  {
   "cell_type": "code",
   "execution_count": null,
   "metadata": {},
   "outputs": [],
   "source": []
  }
 ],
 "metadata": {
  "kernelspec": {
   "display_name": "Python 3",
   "language": "python",
   "name": "python3"
  },
  "language_info": {
   "codemirror_mode": {
    "name": "ipython",
    "version": 3
   },
   "file_extension": ".py",
   "mimetype": "text/x-python",
   "name": "python",
   "nbconvert_exporter": "python",
   "pygments_lexer": "ipython3",
   "version": "3.11.8"
  }
 },
 "nbformat": 4,
 "nbformat_minor": 2
}
