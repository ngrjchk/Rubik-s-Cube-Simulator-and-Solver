{
 "cells": [
  {
   "cell_type": "code",
   "execution_count": null,
   "metadata": {},
   "outputs": [],
   "source": [
    "def cleanup_scene():\n",
    "    \"\"\"Removes existing piecelets and rotation empties directly from data.\"\"\"\n",
    "    # No need to select/deselect for this method\n",
    "    objs_to_remove = [o for o in bpy.data.objects if o.name.startswith(\"Piece.\") or o.name.startswith(\"ROT_\")]\n",
    "\n",
    "    if objs_to_remove:\n",
    "        print(f\"Removing {len(objs_to_remove)} old objects...\")\n",
    "        for obj in objs_to_remove:\n",
    "            bpy.data.objects.remove(obj, do_unlink=True) # Use direct removal\n",
    "        print(\"Finished removing old objects.\")\n",
    "    else:\n",
    "        print(\"No old objects found to remove.\")\n",
    "\n",
    "    # Optional: Clear animation data (use with caution if scene has other animations)\n",
    "    # for action in bpy.data.actions:\n",
    "    #     bpy.data.actions.remove(action)\n",
    "\n",
    "    # Ensure the viewport updates if anything was removed\n",
    "    bpy.context.view_layer.update()"
   ]
  },
  {
   "cell_type": "code",
   "execution_count": 5,
   "metadata": {},
   "outputs": [
    {
     "data": {
      "text/plain": [
       "[(0, 0), (1, 'a'), (2, 'b'), (3, 'c'), (4, 'd')]"
      ]
     },
     "execution_count": 5,
     "metadata": {},
     "output_type": "execute_result"
    }
   ],
   "source": [
    "from collections import deque\n",
    "f = deque(['a','b','c','d'])\n",
    "f.appendleft(0)\n",
    "f[0]\n",
    "[i for i in enumerate(f)]"
   ]
  },
  {
   "cell_type": "code",
   "execution_count": null,
   "metadata": {},
   "outputs": [],
   "source": []
  }
 ],
 "metadata": {
  "kernelspec": {
   "display_name": "Python 3",
   "language": "python",
   "name": "python3"
  },
  "language_info": {
   "codemirror_mode": {
    "name": "ipython",
    "version": 3
   },
   "file_extension": ".py",
   "mimetype": "text/x-python",
   "name": "python",
   "nbconvert_exporter": "python",
   "pygments_lexer": "ipython3",
   "version": "3.11.8"
  }
 },
 "nbformat": 4,
 "nbformat_minor": 2
}
