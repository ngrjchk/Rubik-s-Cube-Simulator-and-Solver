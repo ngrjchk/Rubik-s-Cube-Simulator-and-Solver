{
 "cells": [
  {
   "cell_type": "code",
   "execution_count": 8,
   "metadata": {},
   "outputs": [],
   "source": [
    "import sys\n",
    "import os\n",
    "import matplotlib.pyplot as plt\n",
    "import matplotlib.patches as patches\n",
    "sys.path.insert(0, os.path.abspath('..'))\n",
    "from Simulators.cube_simulator_full import *"
   ]
  },
  {
   "cell_type": "code",
   "execution_count": 9,
   "metadata": {},
   "outputs": [
    {
     "data": {
      "image/png": "[encoded data removed]",
      "text/plain": [
       "<Figure size 600x300 with 1 Axes>"
      ]
     },
     "metadata": {},
     "output_type": "display_data"
    }
   ],
   "source": [
    "class CubeVisualizer2D:\n",
    "    def __init__(self):\n",
    "        self.colorizer = CubeColorizer()\n",
    "        self.fig, self.ax = plt.subplots(figsize=(6, 3))\n",
    "        self.fig.canvas.manager.set_window_title('Rubik\\'s Cube 2D')\n",
    "        self.colors_rgb = {\n",
    "            \"White\":  '#FFFFFF', \"Yellow\": '#F0F033',\n",
    "            \"Blue\" :  '#4095FE', \"Green\" : '#00EF2A',\n",
    "            \"Red\"  :  '#FF0000', \"Orange\": '#FF9000',\n",
    "            \"Black\":  '#333333',\n",
    "        }\n",
    "        self.grid_positions = {\n",
    "            'Z': (3, 6),  # White face (Up)\n",
    "            'x': (0, 3),  # Orange face (Left)\n",
    "            'y': (3, 3),  # Green face (Front)\n",
    "            'X': (6, 3),  # Red face (Right)\n",
    "            'Y': (9, 3),  # Blue face (Back) - Unfolded to the far right\n",
    "            'z': (3, 0),  # Yellow face (Down)\n",
    "        }\n",
    "        self.colorizer.cube_tracker.apply_moves('N')\n",
    "        self.update_display()\n",
    "    \n",
    "    def apply_moves(self, moves):\n",
    "        self.colorizer.cube_tracker.apply_moves(moves)\n",
    "\n",
    "    def update_display(self):\n",
    "        self.ax.clear()\n",
    "        min_x = min(pos[0] for pos in self.grid_positions.values())\n",
    "        max_x = max(pos[0] + 3 for pos in self.grid_positions.values()) # Add 3 for width\n",
    "        min_y = min(pos[1] for pos in self.grid_positions.values())\n",
    "        max_y = max(pos[1] + 3 for pos in self.grid_positions.values()) # Add 3 for height\n",
    "\n",
    "        # Apply limits with some padding\n",
    "        self.ax.set_xlim(min_x - 0.5, max_x + 0.5)\n",
    "        self.ax.set_ylim(min_y - 0.5, max_y + 0.5)\n",
    "\n",
    "        # Ensure squares are square\n",
    "        self.ax.set_aspect('equal', adjustable='box')\n",
    "\n",
    "        face_to_colors_map = {}\n",
    "        new_colors = self.colorizer.update_colors()\n",
    "        for direction in ['X', 'x', 'Y', 'y', 'Z', 'z']:\n",
    "            face_colors = np.full((3, 3), '#000000')\n",
    "            for piece_id in self.colorizer.cube_tracker.cube_current_faces_with_ids[direction].flatten():\n",
    "                face_colors[tuple(np.argwhere(self.colorizer.cube_tracker.cube_current_faces_with_ids[direction]==piece_id)[0])] = new_colors[piece_id][self.colorizer.direction__color_idx_map[direction]]\n",
    "            face_to_colors_map[direction] = face_colors\n",
    "        \n",
    "        for direction in ['X', 'x', 'Y', 'y', 'Z', 'z']:\n",
    "            for i in range(3):\n",
    "                for j in range(3):\n",
    "                    color_patch = patches.Rectangle(\n",
    "                        (self.grid_positions[direction][0]+j, self.grid_positions[direction][1]+2-i),\n",
    "                        1,1,\n",
    "                        facecolor=self.colors_rgb[face_to_colors_map[direction][i,j]],\n",
    "                        edgecolor='black',\n",
    "                        linewidth=1,\n",
    "                    )\n",
    "                    self.ax.add_patch(color_patch)\n",
    "\n",
    "if __name__ == \"__main__\":\n",
    "    visualizer2D = CubeVisualizer2D()\n",
    "    next_moves = input(\"Enter a scrambling move sequence (or 'x' to quit): \")\n",
    "    if next_moves != 'x':\n",
    "        for idx, move in enumerate(next_moves):\n",
    "            if move not in visualizer2D.colorizer.cube_tracker.move_map.keys():\n",
    "                raise ValueError(f\"Invalid move: {move} at {idx}\")\n",
    "        visualizer2D.apply_moves(next_moves)\n",
    "        visualizer2D.update_display()\n",
    "        print(\"Move history:\",''.join(visualizer2D.colorizer.cube_tracker.move_history))"
   ]
  },
  {
   "cell_type": "code",
   "execution_count": null,
   "metadata": {},
   "outputs": [],
   "source": []
  }
 ],
 "metadata": {
  "kernelspec": {
   "display_name": "Python 3",
   "language": "python",
   "name": "python3"
  },
  "language_info": {
   "codemirror_mode": {
    "name": "ipython",
    "version": 3
   },
   "file_extension": ".py",
   "mimetype": "text/x-python",
   "name": "python",
   "nbconvert_exporter": "python",
   "pygments_lexer": "ipython3",
   "version": "3.13.2"
  }
 },
 "nbformat": 4,
 "nbformat_minor": 2
}
