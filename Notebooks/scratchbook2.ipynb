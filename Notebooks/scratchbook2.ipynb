{
 "cells": [
  {
   "cell_type": "code",
   "execution_count": null,
   "metadata": {},
   "outputs": [],
   "source": [
    "'R':'r', 'RR': 'rr', 'r':'R', 'rr':'RR', 'L':'l', 'LL': 'll', 'l':'L', 'll': 'LL'"
   ]
  }
 ],
 "metadata": {
  "language_info": {
   "name": "python"
  }
 },
 "nbformat": 4,
 "nbformat_minor": 2
}
